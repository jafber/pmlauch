{
 "cells": [
  {
   "cell_type": "code",
   "execution_count": 1,
   "metadata": {},
   "outputs": [],
   "source": [
    "using Distributions, Plots, Random, Interact"
   ]
  },
  {
   "cell_type": "code",
   "execution_count": 3,
   "metadata": {},
   "outputs": [
    {
     "ename": "ErrorException",
     "evalue": "The WebIO Jupyter extension must be installed using Python or Conda. See https://juliagizmos.github.io/WebIO.jl/latest/providers/ijulia/ for more information.",
     "output_type": "error",
     "traceback": [
      "The WebIO Jupyter extension must be installed using Python or Conda. See https://juliagizmos.github.io/WebIO.jl/latest/providers/ijulia/ for more information.\n",
      "\n",
      "Stacktrace:\n",
      " [1] error(s::String)\n",
      "   @ Base ./error.jl:35\n",
      " [2] _error()\n",
      "   @ WebIO ~/.julia/packages/WebIO/8Xm9p/deps/jupyter.jl:1\n",
      " [3] install_jupyter_nbextension(; kwargs::@Kwargs{})\n",
      "   @ WebIO ~/.julia/packages/WebIO/8Xm9p/deps/jupyter.jl:10\n",
      " [4] top-level scope\n",
      "   @ ~/meine/uni/pml/pml-assignment1-distributions-pmlauch/blatt2/jl_notebook_cell_df34fa98e69747e1a8f8a730347b8e2f_W1sZmlsZQ==.jl:2"
     ]
    }
   ],
   "source": [
    "Random.seed!(420)\n",
    "Interact.WebIO.install_jupyter_nbextension()\n",
    "μ1 = -3\n",
    "μ2 = 7\n",
    "σ1 = 2\n",
    "σ2 = 2\n",
    "\n",
    "@manipulate for μ1=-10:0.1:10\n",
    "    plot(xlabel=\"x\", ylabel=\"p(x)\", legend=:topleft)\n",
    "\n",
    "    x = -10:0.1:10\n",
    "    n1 = Normal(μ1, σ1)\n",
    "    plot!(x, pdf.(n1, x), label=\"N1\")\n",
    "\n",
    "    n2 = Normal(μ2, σ2)\n",
    "    plot!(x, pdf.(n2, x), label=\"N2\")\n",
    "\n",
    "    μ12 = (μ1 * σ1^2 + μ2 * σ2^2) / (σ1^2 + σ2^2)\n",
    "    σ12 = (σ1^2 * σ2^2) / (σ1^2 + σ2^2)\n",
    "    n12 = Normal(μ12, σ12)\n",
    "    plot!(x, pdf.(n12, x), label=\"N1*N2 (normalized)\")\n",
    "\n",
    "    N = 10000\n",
    "    X_vals = rand(n1, N)\n",
    "    histogram!(X_vals, label=\"X values\", normalize=:pdf)\n",
    "\n",
    "    Y_vals = rand(n2, N)\n",
    "    histogram!(Y_vals, label=\"Y values\", normalize=:pdf)\n",
    "\n",
    "    Z_vals = X_vals .+ Y_vals\n",
    "    histogram!(Z_vals, label=\"Z values\", normalize=:pdf)\n",
    "end"
   ]
  }
 ],
 "metadata": {
  "kernelspec": {
   "display_name": "Julia 1.11.5",
   "language": "julia",
   "name": "julia-1.11"
  },
  "language_info": {
   "file_extension": ".jl",
   "mimetype": "application/julia",
   "name": "julia",
   "version": "1.11.5"
  }
 },
 "nbformat": 4,
 "nbformat_minor": 2
}
